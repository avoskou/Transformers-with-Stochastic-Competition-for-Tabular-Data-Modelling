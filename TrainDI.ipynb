{
 "cells": [
  {
   "cell_type": "code",
   "execution_count": null,
   "metadata": {
    "colab": {
     "base_uri": "https://localhost:8080/"
    },
    "executionInfo": {
     "elapsed": 56365,
     "status": "ok",
     "timestamp": 1711012653551,
     "user": {
      "displayName": "No Name",
      "userId": "0001"
     },
     "user_tz": -120
    },
    "id": "2OedrOUC-cdF",
    "outputId": "a5f64b39-1631-485d-89c1-f6659660cbe6"
   },
   "outputs": [],
   "source": [
    "import os\n",
    "\n",
    "!pip install keras4torch\n",
    "!pip install einops\n",
    "\n",
    "\n",
    "\n",
    "import  keras4torch\n",
    "from    keras4torch.callbacks  import ModelCheckpoint,LRScheduler\n",
    "import  torch\n",
    "import  torch.nn    as nn\n",
    "import  torch.optim as optim\n",
    "import  torch.nn.functional as     F\n",
    "import  numpy       as np\n",
    "import  pandas      as pd\n",
    "from    copy import deepcopy\n",
    "import  matplotlib.pyplot   as     plt\n",
    "from    sklearn.preprocessing import StandardScaler, QuantileTransformer\n",
    "from    datetime import datetime\n",
    "import  gc\n",
    "import  STab\n",
    "from    STab import MyClassLoss,CatMap,Num_Cat,MyRegreLoss\n",
    "from    STab import mainmodel, LWTA, Gsoftmax\n",
    "MainModel=mainmodel.MainModel"
   ]
  },
  {
   "cell_type": "code",
   "execution_count": 2,
   "metadata": {
    "executionInfo": {
     "elapsed": 4757,
     "status": "ok",
     "timestamp": 1711012658306,
     "user": {
      "displayName": "No Name",
      "userId": "04760672070533363932"
     },
     "user_tz": -120
    },
    "id": "cN4_P9PR-cdJ"
   },
   "outputs": [],
   "source": [
    "##Load DAta\n",
    "X_test_num=pd.DataFrame(np.load('Data/diamond/X_num_test.npy')).astype(np.float64)\n",
    "X_test_cat=pd.DataFrame(np.load('Data/diamond/X_cat_test.npy'))\n",
    "y_test=pd.DataFrame(np.load('Data/diamond/Y_test.npy')).astype(np.float64)\n",
    "\n",
    "X_train_num=pd.DataFrame(np.load('Data/diamond/X_num_train.npy')).astype(np.float64)\n",
    "X_train_cat=pd.DataFrame(np.load('Data/diamond/X_cat_train.npy'))\n",
    "Y_train=pd.DataFrame(np.load('Data/diamond/Y_train.npy')).astype(np.float64)\n",
    "\n",
    "\n",
    "X_valid_num=pd.DataFrame(np.load('Data/diamond/X_num_val.npy')).astype(np.float64)\n",
    "X_valid_cat=pd.DataFrame(np.load('Data/diamond/X_cat_val.npy'))\n",
    "y_valid=pd.DataFrame(np.load('Data/diamond/Y_val.npy')).astype(np.float64)"
   ]
  },
  {
   "cell_type": "code",
   "execution_count": 3,
   "metadata": {
    "executionInfo": {
     "elapsed": 5,
     "status": "ok",
     "timestamp": 1711012658306,
     "user": {
      "displayName": "No Name",
      "userId": "04760672070533363932"
     },
     "user_tz": -120
    },
    "id": "bTPfeUQM-cdJ"
   },
   "outputs": [],
   "source": [
    "# mapping categorical features to integers\n",
    "catmap      = CatMap(X_train_cat)\n",
    "X_test_cat  = catmap(X_test_cat)\n",
    "X_valid_cat = catmap(X_valid_cat)\n",
    "X_train_cat = catmap(X_train_cat)"
   ]
  },
  {
   "cell_type": "code",
   "execution_count": 4,
   "metadata": {
    "executionInfo": {
     "elapsed": 5,
     "status": "ok",
     "timestamp": 1711012658306,
     "user": {
      "displayName": "No Name",
      "userId": "04760672070533363932"
     },
     "user_tz": -120
    },
    "id": "EFCi2rdO-cdJ"
   },
   "outputs": [],
   "source": [
    "#Normalise In\n",
    "scalerX = StandardScaler()\n",
    "\n",
    "scalerX.fit(X_train_num)\n",
    "\n",
    "X_train_num = scalerX.transform(X_train_num).astype(np.float64)\n",
    "X_valid_num = scalerX.transform(X_valid_num).astype(np.float64)\n",
    "X_test_num  = scalerX.transform(X_test_num).astype(np.float64)\n"
   ]
  },
  {
   "cell_type": "code",
   "execution_count": 5,
   "metadata": {
    "executionInfo": {
     "elapsed": 4,
     "status": "ok",
     "timestamp": 1711012658306,
     "user": {
      "displayName": "No Name",
      "userId": "04760672070533363932"
     },
     "user_tz": -120
    },
    "id": "_XktMTMM-cdK"
   },
   "outputs": [],
   "source": [
    "#combine numerical and categorical\n",
    "X_train = np.concatenate([X_train_num,X_train_cat.values],axis=1)\n",
    "X_test  = np.concatenate([X_test_num,X_test_cat.values],axis=1)\n",
    "X_valid = np.concatenate([X_valid_num,X_valid_cat.values],axis=1)"
   ]
  },
  {
   "cell_type": "code",
   "execution_count": 6,
   "metadata": {
    "executionInfo": {
     "elapsed": 4,
     "status": "ok",
     "timestamp": 1711012658306,
     "user": {
      "displayName": "No Name",
      "userId": "04760672070533363932"
     },
     "user_tz": -120
    },
    "id": "BsuwjFvi-cdK"
   },
   "outputs": [],
   "source": [
    "def True_MSE(p,t):\n",
    "    return np.mean( np.square(p-t))"
   ]
  },
  {
   "cell_type": "code",
   "execution_count": 7,
   "metadata": {
    "executionInfo": {
     "elapsed": 5,
     "status": "ok",
     "timestamp": 1711012658307,
     "user": {
      "displayName": "No Name",
      "userId": "04760672070533363932"
     },
     "user_tz": -120
    },
    "id": "_lVcbP5T-cdL"
   },
   "outputs": [],
   "source": [
    "checkpoint='saved/savefileDI'"
   ]
  },
  {
   "cell_type": "code",
   "execution_count": null,
   "metadata": {
    "colab": {
     "base_uri": "https://localhost:8080/"
    },
    "executionInfo": {
     "elapsed": 2220,
     "status": "ok",
     "timestamp": 1711012660523,
     "user": {
      "displayName": "No Name",
      "userId": "04760672070533363932"
     },
     "user_tz": -120
    },
    "id": "PpU6J-CbTL-6",
    "outputId": "8c2dda08-7479-4a0d-8c75-4dff698f85b7"
   },
   "outputs": [],
   "source": [
    "\n",
    "Or_model = MainModel(\n",
    "    categories        = (5,7,8,),\n",
    "    num_continuous    = 6,\n",
    "    dim               = 96  ,\n",
    "    dim_out           = 1,\n",
    "    depth             = 4,\n",
    "    heads             = 8,\n",
    "    attn_dropout      = 0.1 ,\n",
    "    ff_dropout        = 0.1,\n",
    "    U                 = 2,\n",
    "    cases             = 16\n",
    "\n",
    ")\n",
    "no_model = Num_Cat(Or_model,Sample_size=16)\n",
    "model    = keras4torch.Model(no_model,).build([9])"
   ]
  },
  {
   "cell_type": "code",
   "execution_count": null,
   "metadata": {},
   "outputs": [],
   "source": [
    "\n",
    "\n",
    "#Warm Up\n",
    "optimizer=torch.optim.AdamW(model.parameters(),lr=0.0001,weight_decay=0.0001,)\n",
    "sch=torch.optim.lr_scheduler.LinearLR(optimizer, start_factor=0.0001, total_iters=5,  verbose=False)\n",
    "model.compile(optimizer=optimizer, loss=MyRegreLoss(0.01,1), metrics=['mse'])\n",
    "callbacks=[LRScheduler(sch)]\n",
    "model.fit(X_train, Y_train.values,\n",
    "        epochs=5, batch_size=512,\n",
    "        validation_data=(X_valid,y_valid.values),\n",
    "        verbose=2,validation_batch_size=1024,\n",
    "        callbacks=callbacks)\n",
    "\n",
    "#Main Train\n",
    "optimizer=torch.optim.AdamW(model.parameters(),lr=0.001,weight_decay=0.0001,)\n",
    "model.compile(optimizer=optimizer, loss=MyRegreLoss(0.01,1), metrics=['mse'])\n",
    "scheduler =LRScheduler( torch.optim.lr_scheduler.ReduceLROnPlateau(optimizer, mode='min', patience=5, factor=0.5,min_lr=0.000001))\n",
    "callbacks=[ModelCheckpoint(checkpoint,monitor='val_mse',mode='min'),scheduler]\n",
    "model.fit(X_train, Y_train.values,\n",
    "        epochs=80, batch_size=512,\n",
    "        validation_data=(X_valid,y_valid.values),\n",
    "        verbose=2,validation_batch_size=1024,\n",
    "        callbacks=callbacks)\n",
    "\n",
    "\n",
    "model.load_weights(checkpoint)\n",
    "\n",
    "\n",
    "logits=pd.DataFrame()\n",
    "\n",
    "for i in range(0,64):\n",
    "\n",
    "        logits[i]=pd.DataFrame(model.predict(X_test,batch_size=256))\n",
    "\n",
    "\n",
    "\n",
    "Test = (True_MSE(logits.mean(axis=1).values.reshape((-1)),y_test.values.reshape((-1))))\n",
    "\n",
    "\n",
    "\n",
    "print('Test Score:',Test)\n"
   ]
  }
 ],
 "metadata": {
  "accelerator": "GPU",
  "colab": {
   "provenance": []
  },
  "kernelspec": {
   "display_name": "Python 3 (ipykernel)",
   "language": "python",
   "name": "python3"
  },
  "language_info": {
   "codemirror_mode": {
    "name": "ipython",
    "version": 3
   },
   "file_extension": ".py",
   "mimetype": "text/x-python",
   "name": "python",
   "nbconvert_exporter": "python",
   "pygments_lexer": "ipython3",
   "version": "3.11.5"
  }
 },
 "nbformat": 4,
 "nbformat_minor": 1
}
