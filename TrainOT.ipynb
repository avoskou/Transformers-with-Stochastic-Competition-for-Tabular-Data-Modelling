{
 "cells": [
  {
   "cell_type": "code",
   "execution_count": null,
   "metadata": {
    "colab": {
     "base_uri": "https://localhost:8080/"
    },
    "executionInfo": {
     "elapsed": 15557,
     "status": "ok",
     "timestamp": 1710246554516,
     "user": {
      "displayName": "No Name",
      "userId": "0001"
     },
     "user_tz": -120
    },
    "id": "HwmVNV5kPC5G",
    "outputId": "84390dc7-6d84-462f-deab-c94855def85f"
   },
   "outputs": [],
   "source": [
    "import os\n",
    "\n",
    "\n",
    "!pip install keras4torch\n",
    "!pip install einops\n",
    "\n",
    "\n",
    "\n",
    "os.environ['CUDA_VISIBLE_DEVICES'] = '0'\n",
    "import keras4torch\n",
    "from   keras4torch.callbacks  import ModelCheckpoint,LRScheduler\n",
    "import torch\n",
    "import torch.nn    as nn\n",
    "import torch.optim as optim\n",
    "import  torch.nn.functional as     F\n",
    "import numpy       as np\n",
    "import pandas      as pd\n",
    "from copy import deepcopy\n",
    "import  matplotlib.pyplot   as     plt\n",
    "from    sklearn.preprocessing import StandardScaler, QuantileTransformer\n",
    "from    datetime import datetime\n",
    "import  gc\n",
    "import STab\n",
    "from STab import MyClassLoss,MyRegreLoss,CatMap,Num_Cat\n",
    "from   STab import mainmodel, LWTA, Gsoftmax\n",
    "MainModel=mainmodel.MainModel"
   ]
  },
  {
   "cell_type": "code",
   "execution_count": 2,
   "metadata": {
    "executionInfo": {
     "elapsed": 3,
     "status": "ok",
     "timestamp": 1710246554516,
     "user": {
      "displayName": "No Name",
      "userId": "04760672070533363932"
     },
     "user_tz": -120
    },
    "id": "R3zzujHLPC5H"
   },
   "outputs": [],
   "source": [
    "##Split the data # Vale ta opos ta references\n",
    "X_test=pd.DataFrame(np.load('Data/otto/X_num_test.npy')).astype(np.float64).values\n",
    "y_test=pd.DataFrame(np.load('Data/otto/Y_test.npy')).astype(np.int32)[0]\n",
    "\n",
    "X_train=pd.DataFrame(np.load('Data/otto/X_num_train.npy')).astype(np.float64).values\n",
    "Y_train=pd.DataFrame(np.load('Data/otto/Y_train.npy')).astype(np.int32)[0]\n",
    "\n",
    "\n",
    "X_valid=pd.DataFrame(np.load('Data/otto/X_num_val.npy')).astype(np.float64).values\n",
    "y_valid=pd.DataFrame(np.load('Data/otto/Y_val.npy')).astype(np.int32)[0]"
   ]
  },
  {
   "cell_type": "code",
   "execution_count": 3,
   "metadata": {
    "executionInfo": {
     "elapsed": 2,
     "status": "ok",
     "timestamp": 1710246554516,
     "user": {
      "displayName": "No Name",
      "userId": "04760672070533363932"
     },
     "user_tz": -120
    },
    "id": "L-z7pqyxPC5H"
   },
   "outputs": [],
   "source": [
    "def True_ACC(p,t):\n",
    "                return np.mean(np.where(np.round(p)==np.round(t),1,0))"
   ]
  },
  {
   "cell_type": "code",
   "execution_count": 4,
   "metadata": {
    "executionInfo": {
     "elapsed": 3,
     "status": "ok",
     "timestamp": 1710246554517,
     "user": {
      "displayName": "No Name",
      "userId": "04760672070533363932"
     },
     "user_tz": -120
    },
    "id": "b76bu6DwPC5I"
   },
   "outputs": [],
   "source": [
    "chpfilename='saved_vanilla/savefileOT'"
   ]
  },
  {
   "cell_type": "code",
   "execution_count": 5,
   "metadata": {
    "colab": {
     "base_uri": "https://localhost:8080/"
    },
    "executionInfo": {
     "elapsed": 1773968,
     "status": "ok",
     "timestamp": 1710263143898,
     "user": {
      "displayName": "No Name",
      "userId": "04760672070533363932"
     },
     "user_tz": -120
    },
    "id": "hamtFO0ZPC5I",
    "outputId": "83555dc9-c764-4bd5-9963-43861adcc152"
   },
   "outputs": [
    {
     "name": "stdout",
     "output_type": "stream",
     "text": [
      "[Warning] Auto convert float64 to float32, this could lead to extra memory usage.\n",
      "[Warning] Auto convert int32 to int64, this could lead to extra memory usage.\n",
      "[Warning] Auto convert float64 to float32, this could lead to extra memory usage.\n",
      "[Warning] Auto convert int32 to int64, this could lead to extra memory usage.\n",
      "Train on 39601 samples, validate on 9901 samples:\n",
      "Epoch 1/10 - 155s - loss: 2.1519 - acc: 0.1190 - val_loss: 2.0475 - val_acc: 0.1327 - lr: 1e-09\n",
      "Epoch 2/10 - 161s - loss: 1.5367 - acc: 0.4597 - val_loss: 1.2249 - val_acc: 0.6296 - lr: 2e-05\n",
      "Epoch 3/10 - 162s - loss: 1.0385 - acc: 0.6483 - val_loss: 0.8870 - val_acc: 0.7151 - lr: 4e-05\n",
      "Epoch 4/10 - 162s - loss: 0.8503 - acc: 0.6949 - val_loss: 0.7598 - val_acc: 0.7349 - lr: 6e-05\n",
      "Epoch 5/10 - 161s - loss: 0.7767 - acc: 0.7125 - val_loss: 0.7011 - val_acc: 0.7463 - lr: 8e-05\n",
      "Epoch 6/10 - 163s - loss: 0.7330 - acc: 0.7242 - val_loss: 0.6669 - val_acc: 0.7516 - lr: 1e-04\n",
      "Epoch 7/10 - 162s - loss: 0.7058 - acc: 0.7326 - val_loss: 0.6434 - val_acc: 0.7591 - lr: 1e-04\n",
      "Epoch 8/10 - 162s - loss: 0.6877 - acc: 0.7389 - val_loss: 0.6324 - val_acc: 0.7662 - lr: 1e-04\n",
      "Epoch 9/10 - 162s - loss: 0.6673 - acc: 0.7448 - val_loss: 0.6188 - val_acc: 0.7676 - lr: 1e-04\n",
      "Epoch 10/10 - 162s - loss: 0.6593 - acc: 0.7470 - val_loss: 0.6070 - val_acc: 0.7726 - lr: 1e-04\n",
      "[Warning] Auto convert float64 to float32, this could lead to extra memory usage.\n",
      "[Warning] Auto convert int32 to int64, this could lead to extra memory usage.\n",
      "[Warning] Auto convert float64 to float32, this could lead to extra memory usage.\n",
      "[Warning] Auto convert int32 to int64, this could lead to extra memory usage.\n",
      "Train on 39601 samples, validate on 9901 samples:\n",
      "Epoch 1/90 - 162s - loss: 0.6845 - acc: 0.7393 - cross_entropy: 0.6851 - val_loss: 0.6061 - val_acc: 0.7683 - val_cross_entropy: 0.6060 - lr: 1e-03\n",
      "Epoch 2/90 - 162s - loss: 0.6255 - acc: 0.7586 - cross_entropy: 0.6256 - val_loss: 0.5724 - val_acc: 0.7802 - val_cross_entropy: 0.5720 - lr: 1e-03\n",
      "Epoch 3/90 - 162s - loss: 0.6026 - acc: 0.7660 - cross_entropy: 0.6024 - val_loss: 0.5670 - val_acc: 0.7799 - val_cross_entropy: 0.5664 - lr: 1e-03\n",
      "Epoch 4/90 - 161s - loss: 0.5938 - acc: 0.7693 - cross_entropy: 0.5936 - val_loss: 0.5575 - val_acc: 0.7919 - val_cross_entropy: 0.5569 - lr: 1e-03\n",
      "Epoch 5/90 - 162s - loss: 0.5738 - acc: 0.7777 - cross_entropy: 0.5734 - val_loss: 0.5494 - val_acc: 0.7846 - val_cross_entropy: 0.5486 - lr: 1e-03\n",
      "Epoch 6/90 - 162s - loss: 0.5647 - acc: 0.7811 - cross_entropy: 0.5641 - val_loss: 0.5439 - val_acc: 0.7939 - val_cross_entropy: 0.5431 - lr: 1e-03\n",
      "Epoch 7/90 - 162s - loss: 0.5562 - acc: 0.7834 - cross_entropy: 0.5555 - val_loss: 0.5312 - val_acc: 0.7981 - val_cross_entropy: 0.5303 - lr: 1e-03\n",
      "Epoch 8/90 - 162s - loss: 0.5517 - acc: 0.7847 - cross_entropy: 0.5509 - val_loss: 0.5253 - val_acc: 0.7978 - val_cross_entropy: 0.5243 - lr: 1e-03\n",
      "Epoch 9/90 - 162s - loss: 0.5412 - acc: 0.7884 - cross_entropy: 0.5403 - val_loss: 0.5300 - val_acc: 0.7933 - val_cross_entropy: 0.5290 - lr: 1e-03\n",
      "Epoch 10/90 - 163s - loss: 0.5336 - acc: 0.7900 - cross_entropy: 0.5326 - val_loss: 0.5190 - val_acc: 0.8005 - val_cross_entropy: 0.5178 - lr: 1e-03\n",
      "Epoch 11/90 - 162s - loss: 0.5245 - acc: 0.7952 - cross_entropy: 0.5233 - val_loss: 0.5076 - val_acc: 0.8021 - val_cross_entropy: 0.5064 - lr: 1e-03\n",
      "Epoch 12/90 - 163s - loss: 0.5121 - acc: 0.7976 - cross_entropy: 0.5109 - val_loss: 0.5121 - val_acc: 0.8024 - val_cross_entropy: 0.5108 - lr: 1e-03\n",
      "Epoch 13/90 - 162s - loss: 0.5108 - acc: 0.7970 - cross_entropy: 0.5095 - val_loss: 0.5096 - val_acc: 0.7986 - val_cross_entropy: 0.5083 - lr: 1e-03\n",
      "Epoch 14/90 - 163s - loss: 0.5078 - acc: 0.7989 - cross_entropy: 0.5065 - val_loss: 0.5094 - val_acc: 0.8047 - val_cross_entropy: 0.5081 - lr: 1e-03\n",
      "Epoch 15/90 - 162s - loss: 0.5005 - acc: 0.8026 - cross_entropy: 0.4991 - val_loss: 0.5067 - val_acc: 0.7993 - val_cross_entropy: 0.5053 - lr: 1e-03\n",
      "Epoch 16/90 - 162s - loss: 0.4922 - acc: 0.8069 - cross_entropy: 0.4906 - val_loss: 0.5005 - val_acc: 0.8049 - val_cross_entropy: 0.4990 - lr: 1e-03\n",
      "Epoch 17/90 - 162s - loss: 0.4847 - acc: 0.8083 - cross_entropy: 0.4830 - val_loss: 0.5046 - val_acc: 0.8037 - val_cross_entropy: 0.5031 - lr: 1e-03\n",
      "Epoch 18/90 - 163s - loss: 0.4823 - acc: 0.8093 - cross_entropy: 0.4806 - val_loss: 0.4935 - val_acc: 0.8088 - val_cross_entropy: 0.4919 - lr: 1e-03\n",
      "Epoch 19/90 - 162s - loss: 0.4748 - acc: 0.8103 - cross_entropy: 0.4730 - val_loss: 0.4957 - val_acc: 0.8083 - val_cross_entropy: 0.4940 - lr: 1e-03\n",
      "Epoch 20/90 - 163s - loss: 0.4702 - acc: 0.8146 - cross_entropy: 0.4683 - val_loss: 0.4983 - val_acc: 0.8027 - val_cross_entropy: 0.4967 - lr: 1e-03\n",
      "Epoch 21/90 - 162s - loss: 0.4629 - acc: 0.8156 - cross_entropy: 0.4609 - val_loss: 0.4916 - val_acc: 0.8128 - val_cross_entropy: 0.4899 - lr: 1e-03\n",
      "Epoch 22/90 - 162s - loss: 0.4566 - acc: 0.8163 - cross_entropy: 0.4546 - val_loss: 0.4954 - val_acc: 0.8054 - val_cross_entropy: 0.4937 - lr: 1e-03\n",
      "Epoch 23/90 - 162s - loss: 0.4517 - acc: 0.8213 - cross_entropy: 0.4496 - val_loss: 0.4858 - val_acc: 0.8135 - val_cross_entropy: 0.4840 - lr: 1e-03\n",
      "Epoch 24/90 - 161s - loss: 0.4481 - acc: 0.8205 - cross_entropy: 0.4459 - val_loss: 0.4859 - val_acc: 0.8106 - val_cross_entropy: 0.4841 - lr: 1e-03\n",
      "Epoch 25/90 - 161s - loss: 0.4433 - acc: 0.8225 - cross_entropy: 0.4411 - val_loss: 0.4844 - val_acc: 0.8122 - val_cross_entropy: 0.4826 - lr: 1e-03\n",
      "Epoch 26/90 - 162s - loss: 0.4399 - acc: 0.8255 - cross_entropy: 0.4376 - val_loss: 0.4934 - val_acc: 0.8065 - val_cross_entropy: 0.4916 - lr: 1e-03\n",
      "Epoch 27/90 - 162s - loss: 0.4333 - acc: 0.8258 - cross_entropy: 0.4309 - val_loss: 0.4851 - val_acc: 0.8121 - val_cross_entropy: 0.4832 - lr: 1e-03\n",
      "Epoch 28/90 - 162s - loss: 0.4290 - acc: 0.8268 - cross_entropy: 0.4266 - val_loss: 0.4931 - val_acc: 0.8058 - val_cross_entropy: 0.4912 - lr: 1e-03\n",
      "Epoch 29/90 - 161s - loss: 0.4275 - acc: 0.8296 - cross_entropy: 0.4250 - val_loss: 0.4892 - val_acc: 0.8132 - val_cross_entropy: 0.4873 - lr: 1e-03\n",
      "Epoch 30/90 - 161s - loss: 0.4197 - acc: 0.8318 - cross_entropy: 0.4171 - val_loss: 0.4939 - val_acc: 0.8078 - val_cross_entropy: 0.4920 - lr: 1e-03\n",
      "Epoch 31/90 - 162s - loss: 0.4126 - acc: 0.8344 - cross_entropy: 0.4099 - val_loss: 0.4880 - val_acc: 0.8095 - val_cross_entropy: 0.4861 - lr: 1e-03\n",
      "Epoch 32/90 - 163s - loss: 0.4093 - acc: 0.8352 - cross_entropy: 0.4066 - val_loss: 0.4889 - val_acc: 0.8109 - val_cross_entropy: 0.4869 - lr: 1e-03\n",
      "Epoch 33/90 - 163s - loss: 0.4003 - acc: 0.8388 - cross_entropy: 0.3975 - val_loss: 0.4872 - val_acc: 0.8122 - val_cross_entropy: 0.4853 - lr: 1e-03\n",
      "Epoch 34/90 - 162s - loss: 0.3762 - acc: 0.8478 - cross_entropy: 0.3731 - val_loss: 0.4794 - val_acc: 0.8160 - val_cross_entropy: 0.4773 - lr: 5e-04\n",
      "Epoch 35/90 - 162s - loss: 0.3632 - acc: 0.8536 - cross_entropy: 0.3599 - val_loss: 0.4730 - val_acc: 0.8174 - val_cross_entropy: 0.4709 - lr: 5e-04\n",
      "Epoch 36/90 - 163s - loss: 0.3556 - acc: 0.8546 - cross_entropy: 0.3523 - val_loss: 0.4814 - val_acc: 0.8180 - val_cross_entropy: 0.4793 - lr: 5e-04\n",
      "Epoch 37/90 - 162s - loss: 0.3534 - acc: 0.8575 - cross_entropy: 0.3501 - val_loss: 0.4833 - val_acc: 0.8167 - val_cross_entropy: 0.4812 - lr: 5e-04\n",
      "Epoch 38/90 - 161s - loss: 0.3470 - acc: 0.8586 - cross_entropy: 0.3436 - val_loss: 0.4819 - val_acc: 0.8193 - val_cross_entropy: 0.4798 - lr: 5e-04\n",
      "Epoch 39/90 - 163s - loss: 0.3397 - acc: 0.8630 - cross_entropy: 0.3362 - val_loss: 0.4906 - val_acc: 0.8194 - val_cross_entropy: 0.4886 - lr: 5e-04\n",
      "Epoch 40/90 - 163s - loss: 0.3395 - acc: 0.8607 - cross_entropy: 0.3360 - val_loss: 0.4883 - val_acc: 0.8178 - val_cross_entropy: 0.4862 - lr: 5e-04\n",
      "Epoch 41/90 - 163s - loss: 0.3327 - acc: 0.8650 - cross_entropy: 0.3291 - val_loss: 0.4890 - val_acc: 0.8160 - val_cross_entropy: 0.4870 - lr: 5e-04\n",
      "Epoch 42/90 - 163s - loss: 0.3282 - acc: 0.8664 - cross_entropy: 0.3245 - val_loss: 0.4928 - val_acc: 0.8164 - val_cross_entropy: 0.4908 - lr: 5e-04\n",
      "Epoch 43/90 - 164s - loss: 0.3257 - acc: 0.8664 - cross_entropy: 0.3220 - val_loss: 0.5012 - val_acc: 0.8150 - val_cross_entropy: 0.4993 - lr: 5e-04\n",
      "Epoch 44/90 - 163s - loss: 0.3060 - acc: 0.8748 - cross_entropy: 0.3021 - val_loss: 0.4979 - val_acc: 0.8179 - val_cross_entropy: 0.4959 - lr: 2.5e-04\n",
      "Epoch 45/90 - 163s - loss: 0.3007 - acc: 0.8779 - cross_entropy: 0.2968 - val_loss: 0.4950 - val_acc: 0.8176 - val_cross_entropy: 0.4930 - lr: 2.5e-04\n",
      "Epoch 46/90 - 163s - loss: 0.2945 - acc: 0.8797 - cross_entropy: 0.2905 - val_loss: 0.4955 - val_acc: 0.8163 - val_cross_entropy: 0.4935 - lr: 2.5e-04\n",
      "Epoch 47/90 - 163s - loss: 0.2953 - acc: 0.8813 - cross_entropy: 0.2913 - val_loss: 0.5006 - val_acc: 0.8185 - val_cross_entropy: 0.4986 - lr: 2.5e-04\n",
      "Epoch 48/90 - 164s - loss: 0.2848 - acc: 0.8861 - cross_entropy: 0.2807 - val_loss: 0.5038 - val_acc: 0.8167 - val_cross_entropy: 0.5019 - lr: 2.5e-04\n",
      "Epoch 49/90 - 164s - loss: 0.2831 - acc: 0.8854 - cross_entropy: 0.2790 - val_loss: 0.5062 - val_acc: 0.8195 - val_cross_entropy: 0.5043 - lr: 2.5e-04\n",
      "Epoch 50/90 - 163s - loss: 0.2811 - acc: 0.8856 - cross_entropy: 0.2770 - val_loss: 0.5065 - val_acc: 0.8200 - val_cross_entropy: 0.5046 - lr: 2.5e-04\n",
      "Epoch 51/90 - 161s - loss: 0.2813 - acc: 0.8855 - cross_entropy: 0.2771 - val_loss: 0.5048 - val_acc: 0.8204 - val_cross_entropy: 0.5029 - lr: 2.5e-04\n",
      "Epoch 52/90 - 161s - loss: 0.2706 - acc: 0.8905 - cross_entropy: 0.2663 - val_loss: 0.5050 - val_acc: 0.8202 - val_cross_entropy: 0.5031 - lr: 1.3e-04\n",
      "Epoch 53/90 - 162s - loss: 0.2647 - acc: 0.8923 - cross_entropy: 0.2604 - val_loss: 0.5081 - val_acc: 0.8207 - val_cross_entropy: 0.5062 - lr: 1.3e-04\n",
      "Epoch 54/90 - 162s - loss: 0.2638 - acc: 0.8923 - cross_entropy: 0.2594 - val_loss: 0.5100 - val_acc: 0.8218 - val_cross_entropy: 0.5081 - lr: 1.3e-04\n",
      "Epoch 55/90 - 161s - loss: 0.2605 - acc: 0.8949 - cross_entropy: 0.2561 - val_loss: 0.5178 - val_acc: 0.8220 - val_cross_entropy: 0.5160 - lr: 1.3e-04\n",
      "Epoch 56/90 - 162s - loss: 0.2586 - acc: 0.8953 - cross_entropy: 0.2542 - val_loss: 0.5163 - val_acc: 0.8214 - val_cross_entropy: 0.5145 - lr: 1.3e-04\n",
      "Epoch 57/90 - 163s - loss: 0.2601 - acc: 0.8928 - cross_entropy: 0.2557 - val_loss: 0.5109 - val_acc: 0.8222 - val_cross_entropy: 0.5090 - lr: 1.3e-04\n",
      "Epoch 58/90 - 162s - loss: 0.2572 - acc: 0.8945 - cross_entropy: 0.2528 - val_loss: 0.5206 - val_acc: 0.8200 - val_cross_entropy: 0.5189 - lr: 1.3e-04\n",
      "Epoch 59/90 - 161s - loss: 0.2534 - acc: 0.8970 - cross_entropy: 0.2489 - val_loss: 0.5141 - val_acc: 0.8191 - val_cross_entropy: 0.5123 - lr: 1.3e-04\n",
      "Epoch 60/90 - 162s - loss: 0.2495 - acc: 0.8989 - cross_entropy: 0.2449 - val_loss: 0.5206 - val_acc: 0.8204 - val_cross_entropy: 0.5188 - lr: 6.3e-05\n",
      "Epoch 61/90 - 161s - loss: 0.2470 - acc: 0.8991 - cross_entropy: 0.2424 - val_loss: 0.5197 - val_acc: 0.8194 - val_cross_entropy: 0.5179 - lr: 6.3e-05\n",
      "Epoch 62/90 - 162s - loss: 0.2450 - acc: 0.9006 - cross_entropy: 0.2404 - val_loss: 0.5220 - val_acc: 0.8198 - val_cross_entropy: 0.5202 - lr: 6.3e-05\n",
      "Epoch 63/90 - 162s - loss: 0.2461 - acc: 0.9007 - cross_entropy: 0.2415 - val_loss: 0.5194 - val_acc: 0.8205 - val_cross_entropy: 0.5176 - lr: 6.3e-05\n",
      "Epoch 64/90 - 164s - loss: 0.2433 - acc: 0.9023 - cross_entropy: 0.2387 - val_loss: 0.5228 - val_acc: 0.8188 - val_cross_entropy: 0.5211 - lr: 6.3e-05\n",
      "Epoch 65/90 - 161s - loss: 0.2441 - acc: 0.9011 - cross_entropy: 0.2395 - val_loss: 0.5202 - val_acc: 0.8230 - val_cross_entropy: 0.5184 - lr: 6.3e-05\n",
      "Epoch 66/90 - 162s - loss: 0.2418 - acc: 0.9023 - cross_entropy: 0.2372 - val_loss: 0.5267 - val_acc: 0.8201 - val_cross_entropy: 0.5250 - lr: 6.3e-05\n",
      "Epoch 67/90 - 161s - loss: 0.2427 - acc: 0.9010 - cross_entropy: 0.2381 - val_loss: 0.5244 - val_acc: 0.8231 - val_cross_entropy: 0.5227 - lr: 6.3e-05\n",
      "Epoch 68/90 - 163s - loss: 0.2387 - acc: 0.9034 - cross_entropy: 0.2341 - val_loss: 0.5246 - val_acc: 0.8221 - val_cross_entropy: 0.5228 - lr: 3.1e-05\n",
      "Epoch 69/90 - 162s - loss: 0.2343 - acc: 0.9046 - cross_entropy: 0.2296 - val_loss: 0.5239 - val_acc: 0.8231 - val_cross_entropy: 0.5222 - lr: 3.1e-05\n",
      "Epoch 70/90 - 162s - loss: 0.2379 - acc: 0.9031 - cross_entropy: 0.2333 - val_loss: 0.5292 - val_acc: 0.8205 - val_cross_entropy: 0.5275 - lr: 3.1e-05\n",
      "Epoch 71/90 - 162s - loss: 0.2393 - acc: 0.9025 - cross_entropy: 0.2347 - val_loss: 0.5292 - val_acc: 0.8202 - val_cross_entropy: 0.5275 - lr: 3.1e-05\n",
      "Epoch 72/90 - 161s - loss: 0.2344 - acc: 0.9054 - cross_entropy: 0.2297 - val_loss: 0.5271 - val_acc: 0.8209 - val_cross_entropy: 0.5253 - lr: 3.1e-05\n",
      "Epoch 73/90 - 161s - loss: 0.2367 - acc: 0.9047 - cross_entropy: 0.2321 - val_loss: 0.5319 - val_acc: 0.8211 - val_cross_entropy: 0.5302 - lr: 3.1e-05\n",
      "Epoch 74/90 - 163s - loss: 0.2360 - acc: 0.9036 - cross_entropy: 0.2313 - val_loss: 0.5307 - val_acc: 0.8207 - val_cross_entropy: 0.5290 - lr: 3.1e-05\n",
      "Epoch 75/90 - 162s - loss: 0.2337 - acc: 0.9059 - cross_entropy: 0.2290 - val_loss: 0.5333 - val_acc: 0.8208 - val_cross_entropy: 0.5316 - lr: 3.1e-05\n",
      "Epoch 76/90 - 162s - loss: 0.2345 - acc: 0.9060 - cross_entropy: 0.2299 - val_loss: 0.5323 - val_acc: 0.8218 - val_cross_entropy: 0.5306 - lr: 1.6e-05\n",
      "Epoch 77/90 - 162s - loss: 0.2347 - acc: 0.9042 - cross_entropy: 0.2300 - val_loss: 0.5337 - val_acc: 0.8199 - val_cross_entropy: 0.5321 - lr: 1.6e-05\n",
      "Epoch 78/90 - 162s - loss: 0.2318 - acc: 0.9062 - cross_entropy: 0.2271 - val_loss: 0.5310 - val_acc: 0.8228 - val_cross_entropy: 0.5293 - lr: 1.6e-05\n",
      "Epoch 79/90 - 162s - loss: 0.2336 - acc: 0.9059 - cross_entropy: 0.2289 - val_loss: 0.5348 - val_acc: 0.8193 - val_cross_entropy: 0.5332 - lr: 1.6e-05\n",
      "Epoch 80/90 - 162s - loss: 0.2305 - acc: 0.9066 - cross_entropy: 0.2258 - val_loss: 0.5321 - val_acc: 0.8208 - val_cross_entropy: 0.5305 - lr: 1.6e-05\n",
      "Epoch 81/90 - 162s - loss: 0.2278 - acc: 0.9072 - cross_entropy: 0.2230 - val_loss: 0.5310 - val_acc: 0.8191 - val_cross_entropy: 0.5293 - lr: 1.6e-05\n",
      "Epoch 82/90 - 162s - loss: 0.2329 - acc: 0.9051 - cross_entropy: 0.2282 - val_loss: 0.5297 - val_acc: 0.8222 - val_cross_entropy: 0.5280 - lr: 1.6e-05\n",
      "Epoch 83/90 - 162s - loss: 0.2315 - acc: 0.9048 - cross_entropy: 0.2268 - val_loss: 0.5331 - val_acc: 0.8217 - val_cross_entropy: 0.5314 - lr: 1.6e-05\n",
      "Epoch 84/90 - 162s - loss: 0.2297 - acc: 0.9071 - cross_entropy: 0.2250 - val_loss: 0.5317 - val_acc: 0.8225 - val_cross_entropy: 0.5300 - lr: 1e-05\n",
      "Epoch 85/90 - 161s - loss: 0.2296 - acc: 0.9082 - cross_entropy: 0.2248 - val_loss: 0.5336 - val_acc: 0.8207 - val_cross_entropy: 0.5320 - lr: 1e-05\n",
      "Epoch 86/90 - 161s - loss: 0.2332 - acc: 0.9050 - cross_entropy: 0.2285 - val_loss: 0.5325 - val_acc: 0.8215 - val_cross_entropy: 0.5309 - lr: 1e-05\n",
      "Epoch 87/90 - 162s - loss: 0.2309 - acc: 0.9069 - cross_entropy: 0.2262 - val_loss: 0.5327 - val_acc: 0.8218 - val_cross_entropy: 0.5311 - lr: 1e-05\n",
      "Epoch 88/90 - 162s - loss: 0.2309 - acc: 0.9060 - cross_entropy: 0.2262 - val_loss: 0.5305 - val_acc: 0.8225 - val_cross_entropy: 0.5288 - lr: 1e-05\n",
      "Epoch 89/90 - 164s - loss: 0.2304 - acc: 0.9068 - cross_entropy: 0.2257 - val_loss: 0.5361 - val_acc: 0.8211 - val_cross_entropy: 0.5345 - lr: 1e-05\n",
      "Epoch 90/90 - 163s - loss: 0.2269 - acc: 0.9086 - cross_entropy: 0.2222 - val_loss: 0.5354 - val_acc: 0.8196 - val_cross_entropy: 0.5338 - lr: 1e-05\n",
      "[Warning] Auto convert float64 to float32, this could lead to extra memory usage.\n",
      "[Warning] Auto convert float64 to float32, this could lead to extra memory usage.\n",
      "[Warning] Auto convert float64 to float32, this could lead to extra memory usage.\n",
      "[Warning] Auto convert float64 to float32, this could lead to extra memory usage.\n",
      "[Warning] Auto convert float64 to float32, this could lead to extra memory usage.\n",
      "[Warning] Auto convert float64 to float32, this could lead to extra memory usage.\n",
      "[Warning] Auto convert float64 to float32, this could lead to extra memory usage.\n",
      "[Warning] Auto convert float64 to float32, this could lead to extra memory usage.\n",
      "[Warning] Auto convert float64 to float32, this could lead to extra memory usage.\n",
      "[Warning] Auto convert float64 to float32, this could lead to extra memory usage.\n",
      "[Warning] Auto convert float64 to float32, this could lead to extra memory usage.\n",
      "[Warning] Auto convert float64 to float32, this could lead to extra memory usage.\n",
      "[Warning] Auto convert float64 to float32, this could lead to extra memory usage.\n",
      "[Warning] Auto convert float64 to float32, this could lead to extra memory usage.\n",
      "[Warning] Auto convert float64 to float32, this could lead to extra memory usage.\n",
      "[Warning] Auto convert float64 to float32, this could lead to extra memory usage.\n",
      "[Warning] Auto convert float64 to float32, this could lead to extra memory usage.\n",
      "[Warning] Auto convert float64 to float32, this could lead to extra memory usage.\n",
      "[Warning] Auto convert float64 to float32, this could lead to extra memory usage.\n",
      "[Warning] Auto convert float64 to float32, this could lead to extra memory usage.\n",
      "[Warning] Auto convert float64 to float32, this could lead to extra memory usage.\n",
      "[Warning] Auto convert float64 to float32, this could lead to extra memory usage.\n",
      "[Warning] Auto convert float64 to float32, this could lead to extra memory usage.\n",
      "[Warning] Auto convert float64 to float32, this could lead to extra memory usage.\n",
      "[Warning] Auto convert float64 to float32, this could lead to extra memory usage.\n",
      "[Warning] Auto convert float64 to float32, this could lead to extra memory usage.\n",
      "[Warning] Auto convert float64 to float32, this could lead to extra memory usage.\n",
      "[Warning] Auto convert float64 to float32, this could lead to extra memory usage.\n",
      "[Warning] Auto convert float64 to float32, this could lead to extra memory usage.\n",
      "[Warning] Auto convert float64 to float32, this could lead to extra memory usage.\n",
      "[Warning] Auto convert float64 to float32, this could lead to extra memory usage.\n",
      "[Warning] Auto convert float64 to float32, this could lead to extra memory usage.\n",
      "[Warning] Auto convert float64 to float32, this could lead to extra memory usage.\n",
      "[Warning] Auto convert float64 to float32, this could lead to extra memory usage.\n",
      "[Warning] Auto convert float64 to float32, this could lead to extra memory usage.\n",
      "[Warning] Auto convert float64 to float32, this could lead to extra memory usage.\n",
      "[Warning] Auto convert float64 to float32, this could lead to extra memory usage.\n",
      "[Warning] Auto convert float64 to float32, this could lead to extra memory usage.\n",
      "[Warning] Auto convert float64 to float32, this could lead to extra memory usage.\n",
      "[Warning] Auto convert float64 to float32, this could lead to extra memory usage.\n",
      "[Warning] Auto convert float64 to float32, this could lead to extra memory usage.\n",
      "[Warning] Auto convert float64 to float32, this could lead to extra memory usage.\n",
      "[Warning] Auto convert float64 to float32, this could lead to extra memory usage.\n",
      "[Warning] Auto convert float64 to float32, this could lead to extra memory usage.\n",
      "[Warning] Auto convert float64 to float32, this could lead to extra memory usage.\n",
      "[Warning] Auto convert float64 to float32, this could lead to extra memory usage.\n",
      "[Warning] Auto convert float64 to float32, this could lead to extra memory usage.\n",
      "[Warning] Auto convert float64 to float32, this could lead to extra memory usage.\n",
      "[Warning] Auto convert float64 to float32, this could lead to extra memory usage.\n",
      "[Warning] Auto convert float64 to float32, this could lead to extra memory usage.\n",
      "[Warning] Auto convert float64 to float32, this could lead to extra memory usage.\n",
      "[Warning] Auto convert float64 to float32, this could lead to extra memory usage.\n",
      "[Warning] Auto convert float64 to float32, this could lead to extra memory usage.\n",
      "[Warning] Auto convert float64 to float32, this could lead to extra memory usage.\n",
      "[Warning] Auto convert float64 to float32, this could lead to extra memory usage.\n",
      "[Warning] Auto convert float64 to float32, this could lead to extra memory usage.\n",
      "[Warning] Auto convert float64 to float32, this could lead to extra memory usage.\n",
      "[Warning] Auto convert float64 to float32, this could lead to extra memory usage.\n",
      "[Warning] Auto convert float64 to float32, this could lead to extra memory usage.\n",
      "[Warning] Auto convert float64 to float32, this could lead to extra memory usage.\n",
      "[Warning] Auto convert float64 to float32, this could lead to extra memory usage.\n",
      "[Warning] Auto convert float64 to float32, this could lead to extra memory usage.\n",
      "[Warning] Auto convert float64 to float32, this could lead to extra memory usage.\n",
      "[Warning] Auto convert float64 to float32, this could lead to extra memory usage.\n",
      "Test:  0.8260342598577892\n"
     ]
    }
   ],
   "source": [
    "Or_model = MainModel(\n",
    "    categories        = (),\n",
    "    num_continuous    = 93,\n",
    "    dim               = 192,\n",
    "    dim_out           = 9,\n",
    "    depth             = 5,\n",
    "    heads             = 8,\n",
    "    attn_dropout      = 0.25,\n",
    "    ff_dropout        = 0.25,\n",
    "    U                 = 2,\n",
    "    cases             = 16\n",
    "\n",
    ")\n",
    "\n",
    "no_model = Num_Cat(Or_model,num_number=93,classes=9,Sample_size=16)\n",
    "model    = keras4torch.Model(no_model,).build([93])\n",
    "\n",
    "#Warm Up Train\n",
    "optimizer=torch.optim.AdamW(model.parameters(),lr=0.0001,weight_decay=0.0001,)\n",
    "sch=torch.optim.lr_scheduler.LinearLR(optimizer, start_factor=0.00001, total_iters=5,  verbose=False)\n",
    "model.compile(optimizer=optimizer, loss=MyClassLoss(0.1,1), metrics=['accuracy'])\n",
    "callbacks=[LRScheduler(sch)]\n",
    "model.fit(X_train, Y_train.values,\n",
    "        epochs=10, batch_size=512,\n",
    "        validation_data=(X_valid,y_valid.values),\n",
    "        verbose=2,validation_batch_size=128,\n",
    "        callbacks=callbacks)\n",
    "\n",
    "\n",
    "#Main Train\n",
    "optimizer=torch.optim.AdamW(model.parameters(),lr=0.001,weight_decay=0.0001,)\n",
    "model.compile(optimizer=optimizer, loss=MyClassLoss(0.01,1), metrics=['accuracy', F.cross_entropy])\n",
    "scheduler =LRScheduler( torch.optim.lr_scheduler.ReduceLROnPlateau(optimizer, mode='min', patience=7, factor=0.5,min_lr=0.00001))\n",
    "callbacks=[scheduler,ModelCheckpoint(chpfilename,monitor='val_acc',mode='max')]\n",
    "model.fit(X_train, Y_train.values,\n",
    "        epochs=90, batch_size=512,\n",
    "        validation_data=(X_valid,y_valid.values),\n",
    "        verbose=2,validation_batch_size=128,\n",
    "        callbacks=callbacks)\n",
    "\n",
    "\n",
    "model.load_weights(chpfilename)\n",
    "no_model.reset_Sample_size(1)\n",
    "\n",
    "logits=0\n",
    "for i in range(0,64):\n",
    "\n",
    "    logits+=pd.DataFrame(model.predict(X_test,batch_size=512))\n",
    "\n",
    "Test = (True_ACC(logits.idxmax(axis=1).values.reshape((-1,1)),y_test.values.reshape((-1,1))))\n",
    "\n",
    "print('Test: ',Test)"
   ]
  },
  {
   "cell_type": "code",
   "execution_count": 6,
   "metadata": {
    "colab": {
     "base_uri": "https://localhost:8080/"
    },
    "executionInfo": {
     "elapsed": 3,
     "status": "ok",
     "timestamp": 1710263143899,
     "user": {
      "displayName": "No Name",
      "userId": "04760672070533363932"
     },
     "user_tz": -120
    },
    "id": "9mZV0fRz1OhP",
    "outputId": "9a9da0eb-3730-43a5-a3c0-69e522496f1e"
   },
   "outputs": [
    {
     "name": "stdout",
     "output_type": "stream",
     "text": [
      "Test:  0.8260342598577892\n"
     ]
    }
   ],
   "source": [
    "Test = (True_ACC(logits.idxmax(axis=1).values.reshape((-1,1)),y_test.values.reshape((-1,1))))\n",
    "\n",
    "print('Test: ',Test)"
   ]
  }
 ],
 "metadata": {
  "accelerator": "GPU",
  "colab": {
   "gpuType": "T4",
   "machine_shape": "hm",
   "provenance": []
  },
  "kernelspec": {
   "display_name": "Python 3 (ipykernel)",
   "language": "python",
   "name": "python3"
  },
  "language_info": {
   "codemirror_mode": {
    "name": "ipython",
    "version": 3
   },
   "file_extension": ".py",
   "mimetype": "text/x-python",
   "name": "python",
   "nbconvert_exporter": "python",
   "pygments_lexer": "ipython3",
   "version": "3.11.5"
  }
 },
 "nbformat": 4,
 "nbformat_minor": 1
}
