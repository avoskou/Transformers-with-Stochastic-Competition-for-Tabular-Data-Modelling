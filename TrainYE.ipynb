{
 "cells": [
  {
   "cell_type": "code",
   "execution_count": 2,
   "metadata": {
    "colab": {
     "base_uri": "https://localhost:8080/"
    },
    "executionInfo": {
     "elapsed": 45245,
     "status": "ok",
     "timestamp": 1710232671214,
     "user": {
      "displayName": "No Name",
      "userId": "0001"
     },
     "user_tz": -120
    },
    "id": "Hfr7J4LHtJoP",
    "outputId": "0215c69f-5171-47a5-ebb9-0b7682c8fa7c"
   },
   "outputs": [
    {
     "name": "stdout",
     "output_type": "stream",
     "text": [
      "^C\n",
      "^C\n"
     ]
    }
   ],
   "source": [
    "!pip install keras4torch\n",
    "!pip install einops\n",
    "\n",
    "import os\n",
    "import keras4torch\n",
    "from   keras4torch.callbacks  import ModelCheckpoint,LRScheduler\n",
    "import torch\n",
    "import torch.nn    as nn\n",
    "import torch.optim as optim\n",
    "import  torch.nn.functional as     F\n",
    "import numpy       as np\n",
    "import pandas      as pd\n",
    "from copy import deepcopy\n",
    "import  matplotlib.pyplot   as     plt\n",
    "from    sklearn.preprocessing import StandardScaler, QuantileTransformer\n",
    "from    datetime import datetime\n",
    "import  gc\n",
    "import STab\n",
    "from STab import MyClassLoss,MyRegreLoss,CatMap,Num_Cat\n",
    "from   STab import mainmodel, LWTA, Gsoftmax\n",
    "MainModel=mainmodel.MainModel"
   ]
  },
  {
   "cell_type": "code",
   "execution_count": null,
   "metadata": {
    "id": "6sayZw0ktJoZ"
   },
   "outputs": [],
   "source": [
    "##Load DAta\n",
    "X_test=pd.DataFrame(np.load('Data/year/N_test.npy')).astype(np.float32)\n",
    "y_test=pd.DataFrame(np.load('Data/year/y_test.npy')).astype(np.float32)\n",
    "\n",
    "X_train=pd.DataFrame(np.load('Data/year/N_train.npy')).astype(np.float32)\n",
    "Y_train=pd.DataFrame(np.load('Data/year/y_train.npy')).astype(np.float32)\n",
    "\n",
    "\n",
    "X_valid=pd.DataFrame(np.load('Data/year/N_val.npy')).astype(np.float32)\n",
    "y_valid=pd.DataFrame(np.load('Data/year/y_val.npy')).astype(np.float32)"
   ]
  },
  {
   "cell_type": "code",
   "execution_count": null,
   "metadata": {
    "id": "BKWaDVhwtJob"
   },
   "outputs": [],
   "source": [
    "#Normalise In\n",
    "scalerX = StandardScaler()\n",
    "\n",
    "scalerX.fit(X_train+np.random.normal(0,0.000001,size=X_train.shape))\n",
    "\n",
    "X_train = scalerX.transform(X_train).astype(np.float32)\n",
    "X_valid = scalerX.transform(X_valid).astype(np.float32)\n",
    "X_test  = scalerX.transform(X_test).astype(np.float32)\n"
   ]
  },
  {
   "cell_type": "code",
   "execution_count": null,
   "metadata": {
    "id": "zzyEx65otJoc"
   },
   "outputs": [],
   "source": [
    "scale_factor=Y_train.std()\n",
    "y_test  =(y_test-Y_train.mean())/scale_factor\n",
    "y_valid =(y_valid-Y_train.mean())/scale_factor\n",
    "Y_train =(Y_train-Y_train.mean())/scale_factor"
   ]
  },
  {
   "cell_type": "code",
   "execution_count": null,
   "metadata": {
    "id": "-gBd4YsvtJod"
   },
   "outputs": [],
   "source": [
    "checkpoint='saved/savefileYE'"
   ]
  },
  {
   "cell_type": "code",
   "execution_count": null,
   "metadata": {
    "id": "R-ZQUHvatJoe"
   },
   "outputs": [],
   "source": [
    "def True_MSE(p,t):\n",
    "    return np.mean((scale_factor.values[0]*(t- p))  **2)"
   ]
  },
  {
   "cell_type": "code",
   "execution_count": null,
   "metadata": {
    "colab": {
     "background_save": true,
     "base_uri": "https://localhost:8080/"
    },
    "id": "9m7VaYL2tJof",
    "scrolled": true
   },
   "outputs": [
    {
     "name": "stdout",
     "output_type": "stream",
     "text": [
      "Train on 370972 samples, validate on 92743 samples:\n",
      "Epoch 1/5 - 595s - loss: 1.1750 - mse: 1.2508 - val_loss: 0.9901 - val_mse: 1.0453 - lr: 1e-07\n",
      "Epoch 2/5 - 595s - loss: 0.7779 - mse: 0.8095 - val_loss: 0.7177 - val_mse: 0.7427 - lr: 1e-04\n",
      "Epoch 3/5 - 592s - loss: 0.7100 - mse: 0.7341 - val_loss: 0.6955 - val_mse: 0.7181 - lr: 1e-04\n",
      "Epoch 4/5 - 594s - loss: 0.6892 - mse: 0.7112 - val_loss: 0.6815 - val_mse: 0.7027 - lr: 1e-04\n",
      "Epoch 5/5 - 596s - loss: 0.6767 - mse: 0.6974 - val_loss: 0.6848 - val_mse: 0.7065 - lr: 1e-04\n",
      "Train on 370972 samples, validate on 92743 samples:\n",
      "Epoch 1/40 - 593s - loss: 0.7095 - mse: 0.7117 - val_loss: 0.6754 - val_mse: 0.6772 - lr: 1e-03\n",
      "Epoch 2/40 - 594s - loss: 0.6734 - mse: 0.6750 - val_loss: 0.6869 - val_mse: 0.6886 - lr: 1e-03\n",
      "Epoch 3/40 - 595s - loss: 0.6633 - mse: 0.6648 - val_loss: 0.6612 - val_mse: 0.6626 - lr: 1e-03\n",
      "Epoch 4/40 - 594s - loss: 0.6561 - mse: 0.6575 - val_loss: 0.6532 - val_mse: 0.6545 - lr: 1e-03\n",
      "Epoch 5/40 - 592s - loss: 0.6526 - mse: 0.6539 - val_loss: 0.6527 - val_mse: 0.6539 - lr: 1e-03\n",
      "Epoch 6/40 - 593s - loss: 0.6467 - mse: 0.6478 - val_loss: 0.6392 - val_mse: 0.6402 - lr: 1e-03\n",
      "Epoch 7/40 - 595s - loss: 0.6422 - mse: 0.6432 - val_loss: 0.6408 - val_mse: 0.6417 - lr: 1e-03\n",
      "Epoch 8/40 - 592s - loss: 0.6399 - mse: 0.6409 - val_loss: 0.6381 - val_mse: 0.6390 - lr: 1e-03\n",
      "Epoch 9/40 - 599s - loss: 0.6361 - mse: 0.6369 - val_loss: 0.6322 - val_mse: 0.6330 - lr: 1e-03\n",
      "Epoch 10/40 - 596s - loss: 0.6330 - mse: 0.6338 - val_loss: 0.6452 - val_mse: 0.6461 - lr: 1e-03\n",
      "Epoch 11/40 - 594s - loss: 0.6294 - mse: 0.6301 - val_loss: 0.6363 - val_mse: 0.6371 - lr: 1e-03\n",
      "Epoch 12/40 - 592s - loss: 0.6175 - mse: 0.6180 - val_loss: 0.6318 - val_mse: 0.6325 - lr: 5e-04\n",
      "Epoch 13/40 - 594s - loss: 0.6127 - mse: 0.6132 - val_loss: 0.6203 - val_mse: 0.6209 - lr: 5e-04\n",
      "Epoch 14/40 - 596s - loss: 0.6088 - mse: 0.6092 - val_loss: 0.6247 - val_mse: 0.6253 - lr: 5e-04\n",
      "Epoch 15/40 - 599s - loss: 0.6071 - mse: 0.6075 - val_loss: 0.6200 - val_mse: 0.6205 - lr: 5e-04\n",
      "Epoch 16/40 - 596s - loss: 0.6040 - mse: 0.6044 - val_loss: 0.6188 - val_mse: 0.6194 - lr: 5e-04\n",
      "Epoch 17/40 - 594s - loss: 0.6022 - mse: 0.6025 - val_loss: 0.6197 - val_mse: 0.6202 - lr: 5e-04\n",
      "Epoch 18/40 - 594s - loss: 0.5990 - mse: 0.5993 - val_loss: 0.6144 - val_mse: 0.6148 - lr: 5e-04\n",
      "Epoch 19/40 - 596s - loss: 0.5959 - mse: 0.5961 - val_loss: 0.6151 - val_mse: 0.6155 - lr: 5e-04\n",
      "Epoch 20/40 - 597s - loss: 0.5952 - mse: 0.5954 - val_loss: 0.6125 - val_mse: 0.6129 - lr: 5e-04\n",
      "Epoch 21/40 - 592s - loss: 0.5924 - mse: 0.5926 - val_loss: 0.6159 - val_mse: 0.6163 - lr: 5e-04\n",
      "Epoch 22/40 - 594s - loss: 0.5896 - mse: 0.5897 - val_loss: 0.6134 - val_mse: 0.6138 - lr: 5e-04\n",
      "Epoch 23/40 - 595s - loss: 0.5806 - mse: 0.5807 - val_loss: 0.6077 - val_mse: 0.6080 - lr: 2.5e-04\n",
      "Epoch 24/40 - 591s - loss: 0.5764 - mse: 0.5764 - val_loss: 0.6085 - val_mse: 0.6088 - lr: 2.5e-04\n",
      "Epoch 25/40 - 594s - loss: 0.5731 - mse: 0.5730 - val_loss: 0.6086 - val_mse: 0.6089 - lr: 2.5e-04\n",
      "Epoch 26/40 - 594s - loss: 0.5679 - mse: 0.5678 - val_loss: 0.6050 - val_mse: 0.6052 - lr: 1.3e-04\n",
      "Epoch 27/40 - 600s - loss: 0.5633 - mse: 0.5631 - val_loss: 0.6030 - val_mse: 0.6032 - lr: 1.3e-04\n",
      "Epoch 28/40 - 594s - loss: 0.5631 - mse: 0.5629 - val_loss: 0.6038 - val_mse: 0.6040 - lr: 1.3e-04\n",
      "Epoch 29/40 - 593s - loss: 0.5610 - mse: 0.5608 - val_loss: 0.6033 - val_mse: 0.6035 - lr: 1.3e-04\n",
      "Epoch 30/40 - 593s - loss: 0.5568 - mse: 0.5565 - val_loss: 0.6024 - val_mse: 0.6027 - lr: 6.3e-05\n",
      "Epoch 31/40 - 595s - loss: 0.5557 - mse: 0.5555 - val_loss: 0.6023 - val_mse: 0.6025 - lr: 6.3e-05\n",
      "Epoch 32/40 - 592s - loss: 0.5538 - mse: 0.5536 - val_loss: 0.6040 - val_mse: 0.6042 - lr: 6.3e-05\n",
      "Epoch 33/40 - 591s - loss: 0.5538 - mse: 0.5536 - val_loss: 0.6000 - val_mse: 0.6002 - lr: 6.3e-05\n",
      "Epoch 34/40 - 591s - loss: 0.5533 - mse: 0.5530 - val_loss: 0.6015 - val_mse: 0.6017 - lr: 6.3e-05\n",
      "Epoch 35/40 - 596s - loss: 0.5526 - mse: 0.5523 - val_loss: 0.6021 - val_mse: 0.6023 - lr: 6.3e-05\n",
      "Epoch 36/40 - 594s - loss: 0.5497 - mse: 0.5494 - val_loss: 0.6004 - val_mse: 0.6006 - lr: 3.1e-05\n",
      "Epoch 37/40 - 597s - loss: 0.5496 - mse: 0.5493 - val_loss: 0.6016 - val_mse: 0.6018 - lr: 3.1e-05\n",
      "Epoch 38/40 - 596s - loss: 0.5475 - mse: 0.5472 - val_loss: 0.6010 - val_mse: 0.6012 - lr: 1.6e-05\n",
      "Epoch 39/40 - 597s - loss: 0.5470 - mse: 0.5467 - val_loss: 0.6010 - val_mse: 0.6012 - lr: 1.6e-05\n",
      "Epoch 40/40 - 598s - loss: 0.5481 - mse: 0.5477 - val_loss: 0.6007 - val_mse: 0.6009 - lr: 1e-05\n"
     ]
    }
   ],
   "source": [
    "Or_model = MainModel(\n",
    "    categories        = (),\n",
    "    num_continuous    = 90,\n",
    "    dim               = 128,\n",
    "    dim_out           = 1,\n",
    "    depth             = 6,\n",
    "    heads             = 8,\n",
    "    attn_dropout      = 0.25 ,\n",
    "    ff_dropout        = 0.25,\n",
    "    U                 = 2,\n",
    "    cases             = 16\n",
    "\n",
    ")\n",
    "no_model = Num_Cat(Or_model,num_number=90)\n",
    "model    = keras4torch.Model(no_model,).build([90])\n",
    "no_model.reset_Sample_size(8)\n",
    "\n",
    "#Warm UP\n",
    "optimizer=torch.optim.AdamW(model.parameters(),lr=0.0001,weight_decay=0.0001,)\n",
    "sch=torch.optim.lr_scheduler.LinearLR(optimizer, start_factor=0.001, total_iters=1,  verbose=False)\n",
    "model.compile(optimizer=optimizer, loss=MyRegreLoss(0.1,1), metrics=['mse'])\n",
    "callbacks=[ModelCheckpoint(checkpoint,monitor='val_mse',mode='min'),LRScheduler(sch)]\n",
    "model.fit(X_train, Y_train.values,\n",
    "                      epochs=5, batch_size=512,\n",
    "                      validation_data=(X_valid,y_valid.values),\n",
    "                      verbose=2,validation_batch_size=128,\n",
    "                      callbacks=callbacks)\n",
    "#Main Train\n",
    "optimizer=torch.optim.AdamW(model.parameters(),lr=0.001,weight_decay=0.0001,)\n",
    "model.compile(optimizer=optimizer, loss=MyRegreLoss(0.01,1), metrics=['mse'])\n",
    "scheduler =LRScheduler( torch.optim.lr_scheduler.ReduceLROnPlateau(optimizer, mode='min', patience=1, factor=0.5,min_lr=0.00001))\n",
    "callbacks=[ModelCheckpoint('savefile6YE',monitor='val_mse',mode='min'),scheduler]\n",
    "model.fit(X_train, Y_train.values,\n",
    "        epochs=30, batch_size=512,\n",
    "        validation_data=(X_valid,y_valid.values),\n",
    "        verbose=2,validation_batch_size=128,\n",
    "        callbacks=callbacks)\n",
    "\n",
    "\n",
    "model.load_weights(checkpoint)\n",
    "\n",
    "Out2=pd.DataFrame()\n",
    "\n",
    "for i in range(0,64):\n",
    "\n",
    "        Out2[i]=model.predict(X_test,batch_size=128)[:,0]\n",
    "Test = (True_MSE(Out2.mean(axis=1).values.reshape((-1)),y_test.values.reshape((-1))))\n"
   ]
  },
  {
   "cell_type": "code",
   "execution_count": null,
   "metadata": {
    "colab": {
     "background_save": true
    },
    "id": "KoPDsrP3tJog"
   },
   "outputs": [],
   "source": [
    "model.load_weights('savefile6YE')\n",
    "\n",
    "no_model.reset_Sample_size(1)\n",
    "Out2=pd.DataFrame()\n",
    "\n",
    "for i in range(0,64):\n",
    "\n",
    "        Out2[i]=model.predict(X_test,batch_size=4096)[:,0]\n",
    "Test = (True_MSE(Out2.mean(axis=1).values.reshape((-1)),y_test.values.reshape((-1))))\n"
   ]
  },
  {
   "cell_type": "code",
   "execution_count": null,
   "metadata": {
    "colab": {
     "background_save": true
    },
    "id": "3blMRG3sbb76"
   },
   "outputs": [
    {
     "data": {
      "text/plain": [
       "75.83779"
      ]
     },
     "execution_count": 9,
     "metadata": {},
     "output_type": "execute_result"
    }
   ],
   "source": [
    "(True_MSE(Out2.mean(axis=1).values.reshape((-1)),y_test.values.reshape((-1))))\n"
   ]
  }
 ],
 "metadata": {
  "accelerator": "GPU",
  "colab": {
   "gpuType": "A100",
   "machine_shape": "hm",
   "name": "",
   "version": ""
  },
  "kernelspec": {
   "display_name": "Python 3 (ipykernel)",
   "language": "python",
   "name": "python3"
  },
  "language_info": {
   "codemirror_mode": {
    "name": "ipython",
    "version": 3
   },
   "file_extension": ".py",
   "mimetype": "text/x-python",
   "name": "python",
   "nbconvert_exporter": "python",
   "pygments_lexer": "ipython3",
   "version": "3.11.5"
  }
 },
 "nbformat": 4,
 "nbformat_minor": 1
}
