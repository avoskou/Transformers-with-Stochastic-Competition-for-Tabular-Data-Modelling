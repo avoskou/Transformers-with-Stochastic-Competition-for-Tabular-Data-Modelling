{
 "cells": [
  {
   "cell_type": "code",
   "execution_count": null,
   "metadata": {
    "colab": {
     "base_uri": "https://localhost:8080/"
    },
    "executionInfo": {
     "elapsed": 43071,
     "status": "ok",
     "timestamp": 1710173134855,
     "user": {
      "displayName": "No Name",
      "userId": "0001"
     },
     "user_tz": -120
    },
    "id": "1iog3gD5PCFC",
    "outputId": "81aded02-ce28-4c9a-e9aa-91fed6231297"
   },
   "outputs": [],
   "source": [
    "!pip install keras4torch\n",
    "!pip install einops\n",
    "\n",
    "\n",
    "import os\n",
    "import keras4torch\n",
    "from   keras4torch.callbacks  import ModelCheckpoint,LRScheduler\n",
    "import torch\n",
    "import torch.nn    as nn\n",
    "import torch.optim as optim\n",
    "import  torch.nn.functional as     F\n",
    "import numpy       as np\n",
    "import pandas      as pd\n",
    "from copy import deepcopy"
   ]
  },
  {
   "cell_type": "code",
   "execution_count": null,
   "metadata": {
    "executionInfo": {
     "elapsed": 3404,
     "status": "ok",
     "timestamp": 1710173138256,
     "user": {
      "displayName": "No Name",
      "userId": "04760672070533363932"
     },
     "user_tz": -120
    },
    "id": "_xLuoluhPCFD"
   },
   "outputs": [],
   "source": [
    "import  matplotlib.pyplot   as     plt\n",
    "from    sklearn.preprocessing import StandardScaler, QuantileTransformer\n",
    "from    datetime import datetime\n",
    "import  gc\n",
    "import STab\n",
    "from STab import MyRegreLoss,CatMap,Num_Cat\n",
    "from   STab import mainmodel, LWTA, Gsoftmax\n",
    "MainModel=mainmodel.MainModel"
   ]
  },
  {
   "cell_type": "code",
   "execution_count": null,
   "metadata": {
    "executionInfo": {
     "elapsed": 1749,
     "status": "ok",
     "timestamp": 1710173140002,
     "user": {
      "displayName": "No Name",
      "userId": "04760672070533363932"
     },
     "user_tz": -120
    },
    "id": "n5By6m0uPCFD"
   },
   "outputs": [],
   "source": [
    "##Split the data \n",
    "X_test=pd.DataFrame(np.load('Data/house/X_num_test.npy')).astype(np.float64).values\n",
    "y_test=pd.DataFrame(np.load('Data/house/Y_test.npy')).astype(np.float64)\n",
    "\n",
    "X_train=pd.DataFrame(np.load('Data/house/X_num_train.npy')).astype(np.float64).values\n",
    "Y_train=pd.DataFrame(np.load('Data/house/Y_train.npy')).astype(np.float64)\n",
    "\n",
    "\n",
    "X_valid=pd.DataFrame(np.load('Data/house/X_num_val.npy')).astype(np.float64).values\n",
    "y_valid=pd.DataFrame(np.load('Data/house/Y_val.npy')).astype(np.float64)"
   ]
  },
  {
   "cell_type": "code",
   "execution_count": null,
   "metadata": {
    "executionInfo": {
     "elapsed": 395,
     "status": "ok",
     "timestamp": 1710173140395,
     "user": {
      "displayName": "No Name",
      "userId": "04760672070533363932"
     },
     "user_tz": -120
    },
    "id": "2yQxsAp3PCFD"
   },
   "outputs": [],
   "source": [
    "#Normalise In\n",
    "scalerX = QuantileTransformer(output_distribution='normal')\n",
    "\n",
    "scalerX.fit(X_train)\n",
    "\n",
    "X_train = scalerX.transform(X_train).astype(np.float64)\n",
    "X_valid = scalerX.transform(X_valid).astype(np.float64)\n",
    "X_test  = scalerX.transform(X_test).astype(np.float64)"
   ]
  },
  {
   "cell_type": "code",
   "execution_count": null,
   "metadata": {
    "executionInfo": {
     "elapsed": 4,
     "status": "ok",
     "timestamp": 1710173140395,
     "user": {
      "displayName": "No Name",
      "userId": "04760672070533363932"
     },
     "user_tz": -120
    },
    "id": "0ZqtpInmPCFD"
   },
   "outputs": [],
   "source": [
    "scale = 10000\n",
    "bias  = 3.33\n",
    "\n",
    "y_valid = y_valid/scale-bias\n",
    "y_test  = y_test/scale-bias\n",
    "Y_train = Y_train/scale-bias"
   ]
  },
  {
   "cell_type": "code",
   "execution_count": null,
   "metadata": {
    "executionInfo": {
     "elapsed": 3,
     "status": "ok",
     "timestamp": 1710173140395,
     "user": {
      "displayName": "No Name",
      "userId": "04760672070533363932"
     },
     "user_tz": -120
    },
    "id": "cjiiSHE5PCFD"
   },
   "outputs": [],
   "source": [
    "def True_MSE(p,t):\n",
    "        return np.mean( np.square(p-t))"
   ]
  },
  {
   "cell_type": "code",
   "execution_count": null,
   "metadata": {
    "executionInfo": {
     "elapsed": 3,
     "status": "ok",
     "timestamp": 1710173140395,
     "user": {
      "displayName": "No Name",
      "userId": "04760672070533363932"
     },
     "user_tz": -120
    },
    "id": "H0ItnwiSPCFD"
   },
   "outputs": [],
   "source": [
    "checkpoint='saved/savefileHO'"
   ]
  },
  {
   "cell_type": "code",
   "execution_count": null,
   "metadata": {
    "colab": {
     "base_uri": "https://localhost:8080/"
    },
    "executionInfo": {
     "elapsed": 3314897,
     "status": "ok",
     "timestamp": 1710176455290,
     "user": {
      "displayName": "No Name",
      "userId": "04760672070533363932"
     },
     "user_tz": -120
    },
    "id": "Z_Q__CgZPCFE",
    "outputId": "42c63aa1-c985-46a6-e620-3706b9554b4b"
   },
   "outputs": [],
   "source": [
    "\n",
    "\n",
    "Or_model = MainModel(\n",
    "    categories        = (),\n",
    "    num_continuous    = 16,\n",
    "    dim               = 128  ,\n",
    "    dim_out           = 1,\n",
    "    depth             = 4,\n",
    "    heads             = 8,\n",
    "    attn_dropout      = 0.125 ,\n",
    "    ff_dropout        = 0.125,\n",
    "    U                 = 2,\n",
    "    cases             = 1\n",
    "\n",
    ")\n",
    "\n",
    "no_model = Num_Cat(Or_model,num_number=16,Sample_size=16)\n",
    "model    = keras4torch.Model(no_model,).build([16])\n",
    "Or_model.numerical_embedder.lwta.temperature=0.69\n",
    "#Warm Up\n",
    "optimizer=torch.optim.AdamW(model.parameters(),lr=0.0001,weight_decay=0.0001,)\n",
    "sch=torch.optim.lr_scheduler.LinearLR(optimizer, start_factor=0.001, total_iters=10,  verbose=False)\n",
    "model.compile(optimizer=optimizer, loss=MyRegreLoss(0.01,1), metrics=['mse'])\n",
    "callbacks=[LRScheduler(sch)]\n",
    "model.fit(X_train, Y_train.values,\n",
    "                                  epochs=10, batch_size=256,\n",
    "                                  validation_data=(X_valid,y_valid.values),\n",
    "                                  verbose=2,validation_batch_size=512,\n",
    "                                  callbacks=callbacks)\n",
    "\n",
    "#Main Train\n",
    "optimizer=torch.optim.AdamW(model.parameters(),lr=0.001,weight_decay=0.0001,)\n",
    "model.compile(optimizer=optimizer, loss=MyRegreLoss(0.01,1), metrics=['mse'])\n",
    "scheduler =LRScheduler( torch.optim.lr_scheduler.ReduceLROnPlateau(optimizer, mode='min', patience=5, factor=0.5,min_lr=0.00001))\n",
    "callbacks=[ModelCheckpoint(checkpoint,monitor='val_mse',mode='min'),scheduler]\n",
    "model.fit(X_train, Y_train.values,\n",
    "        epochs=115, batch_size=256,\n",
    "        validation_data=(X_valid,y_valid.values),\n",
    "        verbose=2,validation_batch_size=512,\n",
    "        callbacks=callbacks)\n",
    "\n",
    "model.load_weights(checkpoint)\n",
    "\n",
    "\n",
    "no_model.reset_Sample_size(1)\n",
    "logits=pd.DataFrame()\n",
    "\n",
    "for i in range(0,64):\n",
    "\n",
    "        logits[i]=pd.DataFrame(model.predict(X_test,batch_size=4096))\n",
    "\n",
    "\n",
    "Test = (True_MSE(logits.mean(axis=1).values.reshape((-1)),y_test.values.reshape((-1))))\n",
    "print('Test Score:',Test)\n",
    "#Test Score: 9.699489410492822\n"
   ]
  }
 ],
 "metadata": {
  "accelerator": "GPU",
  "colab": {
   "gpuType": "T4",
   "provenance": []
  },
  "kernelspec": {
   "display_name": "Python 3 (ipykernel)",
   "language": "python",
   "name": "python3"
  },
  "language_info": {
   "codemirror_mode": {
    "name": "ipython",
    "version": 3
   },
   "file_extension": ".py",
   "mimetype": "text/x-python",
   "name": "python",
   "nbconvert_exporter": "python",
   "pygments_lexer": "ipython3",
   "version": "3.11.5"
  }
 },
 "nbformat": 4,
 "nbformat_minor": 1
}
