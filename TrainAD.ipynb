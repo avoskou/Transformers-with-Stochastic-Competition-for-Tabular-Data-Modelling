{ 
 "cells": [
  {
   "cell_type": "code",
   "execution_count": null,
   "metadata": {
    "colab": {
     "base_uri": "https://localhost:8080/"
    },
    "executionInfo": {
     "elapsed": 28053,
     "status": "ok",
     "timestamp": 1709998928500,
     "user": {
      "displayName": "No Name",
      "userId": "0001"
     },
     "user_tz": -120
    },
    "id": "UOml-K2X3pcU",
    "outputId": "6dd684b4-c90d-48f1-a350-1b36dc5e7e77"
   },
   "outputs": [],
   "source": [
    "import os\n",
    "\n",
    "!pip install keras4torch\n",
    "!pip install einops\n",
    "\n",
    "import keras4torch\n",
    "from   keras4torch.callbacks  import ModelCheckpoint,LRScheduler\n",
    "import torch\n",
    "import torch.nn    as nn\n",
    "import torch.optim as optim\n",
    "import  torch.nn.functional as     F\n",
    "import numpy       as np\n",
    "import pandas      as pd\n",
    "from copy import deepcopy\n",
    "import  matplotlib.pyplot   as     plt\n",
    "from    sklearn.preprocessing import StandardScaler, QuantileTransformer\n",
    "from    datetime import datetime\n",
    "import  gc\n",
    "import STab\n",
    "from STab import *\n",
    "from   STab import mainmodel, LWTA, Gsoftmax\n",
    "MainModel=mainmodel.MainModel"
   ]
  },
  {
   "cell_type": "code",
   "execution_count": null,
   "metadata": {
    "executionInfo": {
     "elapsed": 777,
     "status": "ok",
     "timestamp": 1709999634395,
     "user": {
      "displayName": "No Name",
      "userId": "04760672070533363932"
     },
     "user_tz": -120
    },
    "id": "XEqBMnbQ3pcW"
   },
   "outputs": [],
   "source": [
    "##Load DAta\n",
    "X_test_N=pd.DataFrame(np.load('Data/adult/N_test.npy')).astype(np.float32)\n",
    "X_test_C=pd.DataFrame(np.load('Data/adult/C_test.npy'))\n",
    "y_test=pd.DataFrame(np.load('Data/adult/y_test.npy')).astype(np.int32)[0]\n",
    "\n",
    "X_train_N=pd.DataFrame(np.load('Data/adult/N_train.npy')).astype(np.float32)\n",
    "X_train_C=pd.DataFrame(np.load('Data/adult/C_train.npy'))\n",
    "Y_train=pd.DataFrame(np.load('Data/adult/y_train.npy')).astype(np.int32)[0]\n",
    "\n",
    "\n",
    "X_valid_N=pd.DataFrame(np.load('Data/adult/N_val.npy')).astype(np.float32)\n",
    "X_valid_C=pd.DataFrame(np.load('Data/adult/C_val.npy'))\n",
    "y_valid=pd.DataFrame(np.load('Data/adult/y_val.npy')).astype(np.int32)[0]\n",
    "\n"
   ]
  },
  {
   "cell_type": "code",
   "execution_count": null,
   "metadata": {
    "executionInfo": {
     "elapsed": 420,
     "status": "ok",
     "timestamp": 1709999101995,
     "user": {
      "displayName": "No Name",
      "userId": "04760672070533363932"
     },
     "user_tz": -120
    },
    "id": "Og1YouDf3pcW"
   },
   "outputs": [],
   "source": [
    "catmap=CatMap(X_train_C)\n",
    "X_train_C=catmap(X_train_C)\n",
    "X_valid_C=catmap(X_valid_C)\n",
    "X_test_C=catmap(X_test_C)"
   ]
  },
  {
   "cell_type": "code",
   "execution_count": null,
   "metadata": {
    "executionInfo": {
     "elapsed": 455,
     "status": "ok",
     "timestamp": 1709999106279,
     "user": {
      "displayName": "No Name",
      "userId": "04760672070533363932"
     },
     "user_tz": -120
    },
    "id": "ht5CYfTz3pcW"
   },
   "outputs": [],
   "source": [
    "#Normalise In\n",
    "scalerX = StandardScaler()\n",
    "\n",
    "scalerX.fit(X_train_N)\n",
    "\n",
    "X_train_N = scalerX.transform(X_train_N).astype(np.float32)\n",
    "X_valid_N = scalerX.transform(X_valid_N).astype(np.float32)\n",
    "X_test_N  = scalerX.transform(X_test_N).astype(np.float32)"
   ]
  },
  {
   "cell_type": "code",
   "execution_count": null,
   "metadata": {
    "executionInfo": {
     "elapsed": 1,
     "status": "ok",
     "timestamp": 1709999106818,
     "user": {
      "displayName": "No Name",
      "userId": "04760672070533363932"
     },
     "user_tz": -120
    },
    "id": "JKPLwJpfG_06"
   },
   "outputs": [],
   "source": []
  },
  {
   "cell_type": "code",
   "execution_count": null,
   "metadata": {
    "executionInfo": {
     "elapsed": 1,
     "status": "ok",
     "timestamp": 1709999106818,
     "user": {
      "displayName": "No Name",
      "userId": "04760672070533363932"
     },
     "user_tz": -120
    },
    "id": "Qk0eIxOt3pcW"
   },
   "outputs": [],
   "source": [
    "#combine numerical and categorical\n",
    "X_train = np.concatenate([X_train_N,X_train_C.values],axis=1)\n",
    "X_test  = np.concatenate([X_test_N,X_test_C.values],axis=1)\n",
    "X_valid = np.concatenate([X_valid_N,X_valid_C.values],axis=1)"
   ]
  },
  {
   "cell_type": "code",
   "execution_count": null,
   "metadata": {
    "executionInfo": {
     "elapsed": 2,
     "status": "ok",
     "timestamp": 1709999107492,
     "user": {
      "displayName": "No Name",
      "userId": "04760672070533363932"
     },
     "user_tz": -120
    },
    "id": "gHCRv4CB3pcX"
   },
   "outputs": [],
   "source": [
    "checkpoint='saved/savefileAD'"
   ]
  },
  {
   "cell_type": "code",
   "execution_count": null,
   "metadata": {
    "executionInfo": {
     "elapsed": 1,
     "status": "ok",
     "timestamp": 1709999110345,
     "user": {
      "displayName": "No Name",
      "userId": "04760672070533363932"
     },
     "user_tz": -120
    },
    "id": "e7EufnZn3pcX"
   },
   "outputs": [],
   "source": [
    "def True_ACC(p,t):\n",
    "                return np.mean(np.where(np.round(p)==np.round(t),1,0))"
   ]
  },
  {
   "cell_type": "code",
   "execution_count": null,
   "metadata": {
    "colab": {
     "base_uri": "https://localhost:8080/",
     "height": 634
    },
    "executionInfo": {
     "elapsed": 513324,
     "status": "error",
     "timestamp": 1709999624211,
     "user": {
      "displayName": "No Name",
      "userId": "04760672070533363932"
     },
     "user_tz": -120
    },
    "id": "xWaaDtQh3pcX",
    "outputId": "8b68ec6d-5caa-49f3-a3a2-7a659c323146",
    "scrolled": true
   },
   "outputs": [],
   "source": [
    "Or_model = MainModel(\n",
    "    categories        = (9, 16,  7 , 15,6  ,  5,  2, 42),     # setting up all classes per categorical feature\n",
    "    num_continuous    = 6,\n",
    "    dim               = 16  ,\n",
    "    dim_out           = 2,\n",
    "    depth             = 3,\n",
    "    heads             = 8,\n",
    "    attn_dropout      = 0.125,\n",
    "    ff_dropout        = 0.125,\n",
    "    U                 = 2,\n",
    "    cases             = 16,\n",
    ")\n",
    "\n",
    "#wrappers allows size N prediction sample averaging\n",
    "no_model = Num_Cat(Or_model,num_number=6,classes=2,Sample_size=16)\n",
    "model    = keras4torch.Model(no_model,).build([14])\n",
    "\n",
    "#Warm Up Train\n",
    "optimizer=torch.optim.AdamW(model.parameters(),lr=0.0001,weight_decay=0.0001,)\n",
    "sch=torch.optim.lr_scheduler.LinearLR(optimizer, start_factor=0.1, total_iters=10,  verbose=False)\n",
    "model.compile(optimizer=optimizer, loss=MyClassLoss(0.01,1), metrics=['accuracy', F.cross_entropy],)\n",
    "callbacks=[ModelCheckpoint(checkpoint,monitor='val_acc',mode='max'),LRScheduler(sch)]\n",
    "model.fit(X_train, Y_train.values,\n",
    "                      epochs=10, batch_size=256,\n",
    "                      validation_data=(X_valid,y_valid.values),\n",
    "                      verbose=2,validation_batch_size=1024,\n",
    "                      callbacks=callbacks       )\n",
    "\n",
    "\n",
    "#Main Train\n",
    "optimizer=torch.optim.AdamW(model.parameters(),lr=0.001,weight_decay=0.0001,)\n",
    "model.compile(optimizer=optimizer, loss=MyClassLoss(0.01,1), metrics=['accuracy', F.cross_entropy])\n",
    "scheduler =LRScheduler( torch.optim.lr_scheduler.ReduceLROnPlateau(optimizer, mode='min', patience=2, factor=0.5,min_lr=0.00001))\n",
    "callbacks=[ModelCheckpoint(checkpoint,monitor='val_loss',mode='min'),scheduler]\n",
    "model.fit(X_train, Y_train.values,\n",
    "        epochs=30, batch_size=256,\n",
    "        validation_data=(X_valid,y_valid.values),\n",
    "        verbose=2,validation_batch_size=1024,\n",
    "        callbacks=callbacks)\n",
    "\n",
    "\n",
    "#Test It\n",
    "model.load_weights(checkpoint)\n",
    "logits=0\n",
    "for i in range(0,64):\n",
    "        logits+=pd.DataFrame(model.predict(X_test,batch_size=1024))\n",
    "\n",
    "Test = (True_ACC(logits.idxmax(axis=1).values.reshape((-1)),y_test.values.reshape((-1))))\n",
    "\n",
    "\n",
    "\n",
    "\n",
    "\n",
    "print('Test Score:',Test)\n",
    "\n"
   ]
  },
  {
   "cell_type": "code",
   "execution_count": null,
   "metadata": {
    "executionInfo": {
     "elapsed": 7,
     "status": "aborted",
     "timestamp": 1709998928502,
     "user": {
      "displayName": "No Name",
      "userId": "04760672070533363932"
     },
     "user_tz": -120
    },
    "id": "V_fkLcuB5ewn"
   },
   "outputs": [],
   "source": []
  }
 ],
 "metadata": {
  "accelerator": "GPU",
  "colab": {
   "provenance": []
  },
  "kernelspec": {
   "display_name": "Python 3 (ipykernel)",
   "language": "python",
   "name": "python3"
  },
  "language_info": {
   "codemirror_mode": {
    "name": "ipython",
    "version": 3
   },
   "file_extension": ".py",
   "mimetype": "text/x-python",
   "name": "python",
   "nbconvert_exporter": "python",
   "pygments_lexer": "ipython3",
   "version": "3.11.5"
  }
 },
 "nbformat": 4,
 "nbformat_minor": 1
}
